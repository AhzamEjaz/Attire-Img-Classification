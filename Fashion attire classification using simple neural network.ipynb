{
 "cells": [
  {
   "cell_type": "code",
   "execution_count": 1,
   "id": "2fdd4261-54fb-4a24-a964-6270647a4ff2",
   "metadata": {
    "tags": []
   },
   "outputs": [],
   "source": [
    "import torchvision\n",
    "import torch\n",
    "import matplotlib.pyplot as plt"
   ]
  },
  {
   "cell_type": "code",
   "execution_count": 2,
   "id": "8bf554b7-90ba-4dd7-a358-98bac64e5eef",
   "metadata": {
    "tags": []
   },
   "outputs": [],
   "source": [
    "train_dataset = torchvision.datasets.FashionMNIST(root='./data',\n",
    "                                                  train=True,\n",
    "                                                  transform = torchvision.transforms.ToTensor(),\n",
    "                                                 download=True)\n",
    "test_dataset = torchvision.datasets.FashionMNIST(root='./data',\n",
    "                                                 train=False,\n",
    "                                                transform = torchvision.transforms.ToTensor())"
   ]
  },
  {
   "cell_type": "code",
   "execution_count": 3,
   "id": "3ea80191-711d-4c7c-be52-84dc5b9ff032",
   "metadata": {
    "tags": []
   },
   "outputs": [],
   "source": [
    "class_names = ['T-shirt/top', 'Trouser', 'Pullover', 'Dress', 'Coat',\n",
    "               'Sandal', 'Shirt', 'Sneaker', 'Bag', 'Ankle boot']\n",
    "\n",
    "batch_size = 64\n",
    "train_loader = torch.utils.data.DataLoader(train_dataset,\n",
    "                                         batch_size = batch_size,\n",
    "                                        shuffle = True)\n",
    "test_loader = torch.utils.data.DataLoader(test_dataset,\n",
    "                                         batch_size = batch_size,\n",
    "                                         shuffle = True)"
   ]
  },
  {
   "cell_type": "code",
   "execution_count": 4,
   "id": "02705387-983a-4bbd-a18e-a26e6bed8f16",
   "metadata": {
    "tags": []
   },
   "outputs": [
    {
     "name": "stdout",
     "output_type": "stream",
     "text": [
      "torch.Size([1, 28, 28])\n"
     ]
    },
    {
     "data": {
      "image/png": "[encoded data removed]",
      "text/plain": [
       "<Figure size 640x480 with 6 Axes>"
      ]
     },
     "metadata": {},
     "output_type": "display_data"
    }
   ],
   "source": [
    "examples = iter(test_loader)\n",
    "example_data, example_target = next(examples)\n",
    "# example_data consist of total 500 images\n",
    "print(example_data[0].shape)\n",
    "for i in range(6):\n",
    "    plt.subplot(2,3,i+1)\n",
    "    plt.imshow(example_data[i][0], cmap='gray')"
   ]
  },
  {
   "cell_type": "code",
   "execution_count": 5,
   "id": "36e3a724-bb2c-4800-8c2d-cfa146528be4",
   "metadata": {
    "tags": []
   },
   "outputs": [],
   "source": [
    "import torch.nn as nn\n",
    "import torch.nn.functional as F\n",
    "class NeuralNet(nn.Module):\n",
    "    def __init__(self, input_size = 784, hidden_size = 500, n_classes = 10):\n",
    "        super(NeuralNet, self).__init__()\n",
    "        self.l1 = nn.Linear(input_size, hidden_size)\n",
    "        self.relu1 = nn.ReLU()\n",
    "        self.l2 = nn.Linear(hidden_size, n_classes)\n",
    "    def forward(self, x):\n",
    "        out = self.l1(x)\n",
    "        out = self.relu1(out)\n",
    "        out = self.l2(out)\n",
    "        return out\n",
    "model = NeuralNet()"
   ]
  },
  {
   "cell_type": "code",
   "execution_count": 6,
   "id": "cd3caa85-5534-4869-b1b6-37cd012f9700",
   "metadata": {
    "tags": []
   },
   "outputs": [],
   "source": [
    "lr = 0.001\n",
    "loss_criterea = nn.CrossEntropyLoss()\n",
    "optim = torch.optim.Adam(model.parameters(), lr=lr)"
   ]
  },
  {
   "cell_type": "code",
   "execution_count": 7,
   "id": "feb9d773-68b0-4691-813d-c59172e6996a",
   "metadata": {
    "tags": []
   },
   "outputs": [
    {
     "name": "stdout",
     "output_type": "stream",
     "text": [
      "[1] loss: 0.409\n",
      "[2] loss: 0.418\n",
      "[3] loss: 0.244\n",
      "[4] loss: 0.177\n",
      "[5] loss: 0.232\n",
      "[6] loss: 0.148\n",
      "[7] loss: 0.270\n",
      "[8] loss: 0.411\n",
      "[9] loss: 0.163\n",
      "[10] loss: 0.191\n",
      "[11] loss: 0.133\n",
      "[12] loss: 0.124\n",
      "[13] loss: 0.193\n",
      "[14] loss: 0.107\n",
      "[15] loss: 0.203\n",
      "[16] loss: 0.049\n",
      "[17] loss: 0.211\n",
      "[18] loss: 0.212\n",
      "[19] loss: 0.170\n",
      "[20] loss: 0.113\n",
      "[21] loss: 0.104\n",
      "[22] loss: 0.171\n",
      "[23] loss: 0.264\n",
      "[24] loss: 0.054\n",
      "[25] loss: 0.175\n",
      "[26] loss: 0.025\n",
      "[27] loss: 0.050\n",
      "[28] loss: 0.038\n",
      "[29] loss: 0.071\n",
      "[30] loss: 0.174\n",
      "[31] loss: 0.198\n",
      "[32] loss: 0.078\n",
      "[33] loss: 0.152\n",
      "[34] loss: 0.045\n",
      "[35] loss: 0.074\n",
      "[36] loss: 0.172\n",
      "[37] loss: 0.176\n",
      "[38] loss: 0.112\n",
      "[39] loss: 0.057\n",
      "[40] loss: 0.030\n",
      "[41] loss: 0.043\n",
      "[42] loss: 0.091\n",
      "[43] loss: 0.024\n",
      "[44] loss: 0.007\n",
      "[45] loss: 0.016\n",
      "[46] loss: 0.049\n",
      "[47] loss: 0.011\n",
      "[48] loss: 0.136\n",
      "[49] loss: 0.022\n",
      "[50] loss: 0.323\n",
      "[51] loss: 0.097\n",
      "[52] loss: 0.172\n",
      "[53] loss: 0.089\n",
      "[54] loss: 0.044\n",
      "[55] loss: 0.132\n",
      "[56] loss: 0.078\n",
      "[57] loss: 0.036\n",
      "[58] loss: 0.049\n",
      "[59] loss: 0.065\n",
      "[60] loss: 0.100\n",
      "[61] loss: 0.019\n",
      "[62] loss: 0.017\n",
      "[63] loss: 0.041\n",
      "[64] loss: 0.169\n",
      "[65] loss: 0.090\n",
      "[66] loss: 0.055\n",
      "[67] loss: 0.008\n",
      "[68] loss: 0.014\n",
      "[69] loss: 0.072\n",
      "[70] loss: 0.065\n",
      "[71] loss: 0.098\n",
      "[72] loss: 0.019\n",
      "[73] loss: 0.074\n",
      "[74] loss: 0.055\n",
      "[75] loss: 0.009\n",
      "[76] loss: 0.003\n",
      "[77] loss: 0.046\n",
      "[78] loss: 0.065\n",
      "[79] loss: 0.020\n",
      "[80] loss: 0.036\n",
      "[81] loss: 0.012\n",
      "[82] loss: 0.042\n",
      "[83] loss: 0.004\n",
      "[84] loss: 0.013\n",
      "[85] loss: 0.030\n",
      "[86] loss: 0.050\n",
      "[87] loss: 0.007\n",
      "[88] loss: 0.007\n",
      "[89] loss: 0.060\n",
      "[90] loss: 0.111\n",
      "[91] loss: 0.041\n",
      "[92] loss: 0.002\n",
      "[93] loss: 0.068\n",
      "[94] loss: 0.021\n",
      "[95] loss: 0.015\n",
      "[96] loss: 0.158\n",
      "[97] loss: 0.053\n",
      "[98] loss: 0.003\n",
      "[99] loss: 0.041\n",
      "[100] loss: 0.052\n"
     ]
    }
   ],
   "source": [
    "epochs = 100\n",
    "losses = []\n",
    "for epoch in range(epochs):\n",
    "    for i, (images, labels) in enumerate(train_loader):\n",
    "        images = images.reshape(-1, 28* 28)\n",
    "        preds = model(images)\n",
    "        loss = loss_criterea(preds, labels)\n",
    "        losses.append(loss.data.item())\n",
    "        loss.backward()\n",
    "        optim.step()\n",
    "        optim.zero_grad()\n",
    "        \n",
    "    print(f'[{epoch + 1}] loss: {loss.data.item():.3f}')"
   ]
  },
  {
   "cell_type": "code",
   "execution_count": 8,
   "id": "842c69f6-91b3-4771-b325-e356c2699868",
   "metadata": {
    "tags": []
   },
   "outputs": [
    {
     "name": "stdout",
     "output_type": "stream",
     "text": [
      "Accuracy of the model: 89.08 %\n"
     ]
    }
   ],
   "source": [
    "with torch.no_grad():\n",
    "    n_correct = 0\n",
    "    n_samples = len(test_loader.dataset)\n",
    "\n",
    "    for images, labels in test_loader:\n",
    "        images = images.reshape(-1, 28* 28)\n",
    "\n",
    "        outputs = model(images)\n",
    "\n",
    "        # max returns (value ,index)\n",
    "        _, predicted = torch.max(outputs, 1)\n",
    "        n_correct += (predicted == labels).sum().item()\n",
    "\n",
    "\n",
    "    acc = 100.0 * n_correct / n_samples\n",
    "    print(f'Accuracy of the model: {acc} %')"
   ]
  }
 ],
 "metadata": {
  "kernelspec": {
   "display_name": "Python 3 (ipykernel)",
   "language": "python",
   "name": "python3"
  },
  "language_info": {
   "codemirror_mode": {
    "name": "ipython",
    "version": 3
   },
   "file_extension": ".py",
   "mimetype": "text/x-python",
   "name": "python",
   "nbconvert_exporter": "python",
   "pygments_lexer": "ipython3",
   "version": "3.11.4"
  }
 },
 "nbformat": 4,
 "nbformat_minor": 5
}
